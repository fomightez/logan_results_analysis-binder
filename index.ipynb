{
 "cells": [
  {
   "cell_type": "markdown",
   "metadata": {},
   "source": [
    "## Logan Search results analyzed using Jupyter & Python via MyBinder.org"
   ]
  },
  {
   "cell_type": "markdown",
   "metadata": {},
   "source": [
    "Choose one of the available notebooks to get started. If you are new, start at the top and work down.\n",
    "\n",
    "### Available Notebooks\n",
    "\n",
    "- [Working with with Logan Search results in Jupyter](notebooks/Working_with_Logan_Search_results_with_Python_in_Jupyter.ipynb)\n",
    "- [Selecting Logan Search results by Sequencing Technology using Python in Jupyter](notebooks/Selecting_Logan_Search_results_by_Sequencing_Technology_using_Python_in_Jupyter.ipynb)\n",
    "\n",
    "\n",
    "#### Advanced/Technical:\n",
    "- [(Technical) Illustrating Adding an Association Matrix to a Grouped Barplot](notebooks/adding_mock_association_data_to_grouped_barplot.ipynb)\n",
    "\n",
    "#### Related\n",
    "\n",
    "- \n",
    "\n",
    "-----"
   ]
  }
 ],
 "metadata": {
  "kernelspec": {
   "display_name": "Python 3 (ipykernel)",
   "language": "python",
   "name": "python3"
  },
  "language_info": {
   "codemirror_mode": {
    "name": "ipython",
    "version": 3
   },
   "file_extension": ".py",
   "mimetype": "text/x-python",
   "name": "python",
   "nbconvert_exporter": "python",
   "pygments_lexer": "ipython3",
   "version": "3.10.16"
  }
 },
 "nbformat": 4,
 "nbformat_minor": 4
}
