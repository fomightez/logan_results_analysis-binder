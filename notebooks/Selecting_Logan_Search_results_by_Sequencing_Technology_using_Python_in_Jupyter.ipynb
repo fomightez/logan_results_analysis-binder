{
 "cells": [
  {
   "cell_type": "markdown",
   "id": "8222ec7a-6e5a-47ec-bf9c-0b7b9ea75653",
   "metadata": {},
   "source": [
    "# Selecting Logan Search results by Sequencing Technology using Python in Jupyter"
   ]
  },
  {
   "cell_type": "markdown",
   "id": "f5e964cf-0c99-4d4e-bd94-dbac316027aa",
   "metadata": {},
   "source": [
    "This notebook demonstrates how you could filter Logan Search Results by technolgy.\n",
    "\n",
    "This assumes you have worked through Working with with Logan Search results in Jupyter](Working_with_Logan_Search_results_with_Python_in_Jupyter.ipynb). If you haven't yet, please do that first.   \n",
    "Indeed the first code cell below is directly from the first cell [there](Working_with_Logan_Search_results_with_Python_in_Jupyter.ipynb).\n",
    "\n",
    "\n",
    "----------\n",
    "\n",
    "#### Reading in the results for several queries\n",
    "\n",
    "Run the code in the next cell assigning the settings to match the set-up preparation performed and to bring in the results data to the active namespace:\n"
   ]
  },
  {
   "cell_type": "code",
   "execution_count": null,
   "id": "f0c8ecae-adfe-4082-b984-3faa9a60d873",
   "metadata": {},
   "outputs": [],
   "source": [
    "results_dir = \"/home/jovyan/logan_search_results/\"\n",
    "consistent_part_of_file_name_suffix = \"_31mer_\"\n",
    "\n",
    "import os\n",
    "import fnmatch\n",
    "import pandas as pd\n",
    "\n",
    "def extract_tags_from_filename(filename):\n",
    "    '''\n",
    "    extract tag labels from file names\n",
    "\n",
    "    return the tag label\n",
    "    '''\n",
    "    first_part = filename.split(consistent_part_of_file_name_suffix,1)[0]\n",
    "    all_but_first_part_of_remainder_as_list = first_part.split(\"_\")[1:]\n",
    "    return \"_\".join(all_but_first_part_of_remainder_as_list)\n",
    "    \n",
    "matched_filenames = []\n",
    "file_tags_per_file = []\n",
    "dfs = []\n",
    "for file in os.listdir(results_dir):\n",
    "    if fnmatch.fnmatch(file, '*.tsv'):\n",
    "        matched_filenames.append(file)\n",
    "        file_tags_per_file.append(extract_tags_from_filename(file))\n",
    "        dfs.append(pd.read_csv(results_dir + file, sep=\"\\t\"))\n",
    "\n",
    "# provide feedback about what was read in\n",
    "max_filename_length = max(len(filename) for filename in matched_filenames)\n",
    "for filename, df in zip(matched_filenames, dfs): \n",
    "    print(f'from {filename}:{\" \" * (max_filename_length - len(filename))} {len(df):>6} rows read in')\n",
    "\n",
    "#print(file_tags_per_file) # FOR DEBUGGING, uncomment\n",
    "#print(matched_filenames) # FOR DEBUGGING, uncomment\n",
    "gene_name = file_tags_per_file[0].split(\"_\",1)[0]\n",
    "# make tuples of tag labels and corresponding dataframes\n",
    "tags_and_dataframes = list(zip(file_tags_per_file, dfs)) # tags are first in each two-item tuple, the dataframe is second\n",
    "# make dictionary of tuples of tag labels and corresponding dataframes, integers will be the keys with the tuples as values\n",
    "tags_and_dataframes_dict = dict(zip(range(len(file_tags_per_file)), zip(file_tags_per_file, dfs))) # integers ('index') are keys with tags are first in each two-item tuple, the dataframe is second\n",
    "print(f\"\\nTOTAL QUERY RESULTS READ IN: {len(file_tags_per_file)}\")"
   ]
  },
  {
   "cell_type": "markdown",
   "id": "a1cc58ce-f4b2-412a-8f5c-9011c5d84904",
   "metadata": {},
   "source": [
    "--------\n",
    "\n",
    "## Selecting based on Sequencing Technology\n",
    "\n",
    "#### Step #1 add a type column based on Instrument used\n",
    "\n",
    "In step #1, we'll add and additional column to the data based on the `Instruments` column.  \n",
    "To do that first we have to bring in a table that has the technology instruments \n",
    "\n"
   ]
  },
  {
   "cell_type": "code",
   "execution_count": null,
   "id": "b449e5cc-81c1-4976-b535-e3f84f8745ef",
   "metadata": {},
   "outputs": [],
   "source": []
  },
  {
   "cell_type": "code",
   "execution_count": null,
   "id": "d9f77ca5-0920-4796-a178-80f78d9a5c60",
   "metadata": {},
   "outputs": [],
   "source": [
    "Now we are ready to do tthe assignment step."
   ]
  },
  {
   "cell_type": "code",
   "execution_count": null,
   "id": "ff3292c9-16d5-4ef0-aba5-f45d527a59ae",
   "metadata": {},
   "outputs": [],
   "source": []
  },
  {
   "cell_type": "markdown",
   "id": "2e7a2bc9-15c9-4fb8-8921-db0bcfd958e1",
   "metadata": {},
   "source": [
    "If you later edit this notebook to repeat it with your own results, keep in mind tha assignment step may fail. Whike an effort was made to make it fairly extensive, the table may not be complete at this time. If you see an error here it may be that there is no match for an instrument listed in your results among the list supplied here. To fix it though, you should be able to edit the comma-separated values file [there](supporting_tables/sequencing_instrument_details_for_all_SRA_options_seen_thus_far.csv),save it, and run the code again."
   ]
  },
  {
   "cell_type": "code",
   "execution_count": null,
   "id": "0ad34430-70a9-4eff-a15d-69ae44344e6a",
   "metadata": {},
   "outputs": [],
   "source": []
  },
  {
   "cell_type": "code",
   "execution_count": null,
   "id": "9e940fc0-4de1-4018-9657-ec6c6e48f678",
   "metadata": {},
   "outputs": [],
   "source": []
  },
  {
   "cell_type": "code",
   "execution_count": null,
   "id": "efec391b-2db9-4ec2-8aec-c499c9a16c7f",
   "metadata": {},
   "outputs": [],
   "source": [
    "#### Step #2 Sort on the technology type"
   ]
  },
  {
   "cell_type": "code",
   "execution_count": null,
   "id": "aba9f82f-ba3c-4aa5-8c5e-0212e31d1f1b",
   "metadata": {},
   "outputs": [],
   "source": []
  }
 ],
 "metadata": {
  "kernelspec": {
   "display_name": "Python 3 (ipykernel)",
   "language": "python",
   "name": "python3"
  },
  "language_info": {
   "codemirror_mode": {
    "name": "ipython",
    "version": 3
   },
   "file_extension": ".py",
   "mimetype": "text/x-python",
   "name": "python",
   "nbconvert_exporter": "python",
   "pygments_lexer": "ipython3",
   "version": "3.10.16"
  }
 },
 "nbformat": 4,
 "nbformat_minor": 5
}
