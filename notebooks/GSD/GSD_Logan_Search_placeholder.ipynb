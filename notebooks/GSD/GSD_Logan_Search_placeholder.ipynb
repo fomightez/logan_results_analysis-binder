{
 "cells": [
  {
   "cell_type": "markdown",
   "id": "2873b605-8b85-46f0-9061-45e5fa560434",
   "metadata": {},
   "source": [
    "### GSD: Exists but not shared here"
   ]
  }
 ],
 "metadata": {
  "kernelspec": {
   "display_name": "Python 3 (ipykernel)",
   "language": "python",
   "name": "python3"
  },
  "language_info": {
   "codemirror_mode": {
    "name": "ipython",
    "version": 3
   },
   "file_extension": ".py",
   "mimetype": "text/x-python",
   "name": "python",
   "nbconvert_exporter": "python",
   "pygments_lexer": "ipython3",
   "version": "3.10.16"
  }
 },
 "nbformat": 4,
 "nbformat_minor": 5
}
